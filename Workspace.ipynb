{
  "nbformat": 4,
  "nbformat_minor": 0,
  "metadata": {
    "colab": {
      "provenance": []
    },
    "kernelspec": {
      "name": "python3",
      "display_name": "Python 3"
    },
    "language_info": {
      "name": "python"
    }
  },
  "cells": [
    {
      "cell_type": "code",
      "source": [
        "!pip uninstall Crypto -y\n",
        "!pip uninstall pycrypto -y\n",
        "!pip install pycryptodome"
      ],
      "metadata": {
        "colab": {
          "base_uri": "https://localhost:8080/"
        },
        "id": "CXbhOkzOUNsP",
        "outputId": "ed705675-ebb0-4306-b5e6-545911b52fd4"
      },
      "execution_count": 1,
      "outputs": [
        {
          "output_type": "stream",
          "name": "stdout",
          "text": [
            "\u001b[33mWARNING: Skipping Crypto as it is not installed.\u001b[0m\u001b[33m\n",
            "\u001b[0m\u001b[33mWARNING: Skipping pycrypto as it is not installed.\u001b[0m\u001b[33m\n",
            "\u001b[0mCollecting pycryptodome\n",
            "  Downloading pycryptodome-3.20.0-cp35-abi3-manylinux_2_17_x86_64.manylinux2014_x86_64.whl (2.1 MB)\n",
            "\u001b[2K     \u001b[90m━━━━━━━━━━━━━━━━━━━━━━━━━━━━━━━━━━━━━━━━\u001b[0m \u001b[32m2.1/2.1 MB\u001b[0m \u001b[31m7.5 MB/s\u001b[0m eta \u001b[36m0:00:00\u001b[0m\n",
            "\u001b[?25hInstalling collected packages: pycryptodome\n",
            "Successfully installed pycryptodome-3.20.0\n"
          ]
        }
      ]
    },
    {
      "cell_type": "code",
      "execution_count": 2,
      "metadata": {
        "colab": {
          "base_uri": "https://localhost:8080/"
        },
        "id": "Cu7XdZ42UI9e",
        "outputId": "1ff6f327-81d4-4011-b7e9-c62f9e7b7d9d"
      },
      "outputs": [
        {
          "output_type": "stream",
          "name": "stdout",
          "text": [
            "12209473424284254581046330622226746603914287774401865440250058970442212187312263090279936933996589057620222947749502552136411520362763378230960567186244189 24418946848568509162092661244453493207828575548803730880500117940884424374624526180559873867993178115240445895499005104272823040725526756461921134372488379\n"
          ]
        }
      ],
      "source": [
        "import os\n",
        "from Crypto.Util.number import getPrime, inverse, isPrime\n",
        "\n",
        "while True:\n",
        "    p = getPrime(512)\n",
        "    q = 2 * p + 1\n",
        "    if isPrime(q):\n",
        "        break\n",
        "\n",
        "print(p, q)"
      ]
    },
    {
      "cell_type": "code",
      "source": [
        "import os\n",
        "from Crypto.Util.number import inverse, isPrime, getPrime, getPrime\n",
        "\n",
        "def decrypt(n, c, e):\n",
        "  \"\"\"\n",
        "  RSA 暗号で暗号化されたメッセージを復号します。\n",
        "\n",
        "  引数:\n",
        "    n: 鍵の法\n",
        "    c: 暗号文\n",
        "    e: 公開鍵 (暗号化指数)\n",
        "\n",
        "  戻り値:\n",
        "    復号化されたメッセージ (文字列)\n",
        "  \"\"\"\n",
        "  phi = (n - 1) // 2\n",
        "  print(phi)\n",
        "  d = inverse(e, phi)\n",
        "  print(d)\n",
        "  # メッセージの復号\n",
        "  m = pow(c, d, n)\n",
        "  return m.to_bytes((m.bit_length() + 7) // 8, 'big').decode()\n",
        "\n",
        "# 与えられた n, c を使用する\n",
        "n = 292927367433510948901751902057717800692038691293351366163009654796102787183601223853665784238601655926920628800436003079044921928983307813012149143680956641439800408783429996002829316421340550469318295239640149707659994033143360850517185860496309968947622345912323183329662031340775767654881876683235701491291\n",
        "c = 40791470236110804733312817275921324892019927976655404478966109115157033048751614414177683787333122984170869148886461684367352872341935843163852393126653174874958667177632653833127408726094823976937236033974500273341920433616691535827765625224845089258529412235827313525710616060854484132337663369013424587861\n",
        "\n",
        "e = 65537\n",
        "\n",
        "# 復号を実行\n",
        "flag = decrypt(n, c, e)\n",
        "print(f\"復号化されたメッセージ: {flag}\")"
      ],
      "metadata": {
        "colab": {
          "base_uri": "https://localhost:8080/",
          "height": 369
        },
        "id": "jDCOS4f2XxMu",
        "outputId": "b8e9a646-1211-43e1-c651-26ef84ec27fb"
      },
      "execution_count": 3,
      "outputs": [
        {
          "output_type": "stream",
          "name": "stdout",
          "text": [
            "146463683716755474450875951028858900346019345646675683081504827398051393591800611926832892119300827963460314400218001539522460964491653906506074571840478320719900204391714998001414658210670275234659147619820074853829997016571680425258592930248154984473811172956161591664831015670387883827440938341617850745645\n",
            "131879219979697839431475971530036354552679365945282492856290055534833922627611058034611529317058473212868404307051962843107861879176907528218105292565702827166364511060309348109640056695757566136266093354795038485120801286981574279795151249017713257988374065448770186089283047221039403886981662457500511014408\n"
          ]
        },
        {
          "output_type": "error",
          "ename": "UnicodeDecodeError",
          "evalue": "'utf-8' codec can't decode byte 0xb0 in position 3: invalid start byte",
          "traceback": [
            "\u001b[0;31m---------------------------------------------------------------------------\u001b[0m",
            "\u001b[0;31mUnicodeDecodeError\u001b[0m                        Traceback (most recent call last)",
            "\u001b[0;32m<ipython-input-3-a8834e8da65c>\u001b[0m in \u001b[0;36m<cell line: 31>\u001b[0;34m()\u001b[0m\n\u001b[1;32m     29\u001b[0m \u001b[0;34m\u001b[0m\u001b[0m\n\u001b[1;32m     30\u001b[0m \u001b[0;31m# 復号を実行\u001b[0m\u001b[0;34m\u001b[0m\u001b[0;34m\u001b[0m\u001b[0m\n\u001b[0;32m---> 31\u001b[0;31m \u001b[0mflag\u001b[0m \u001b[0;34m=\u001b[0m \u001b[0mdecrypt\u001b[0m\u001b[0;34m(\u001b[0m\u001b[0mn\u001b[0m\u001b[0;34m,\u001b[0m \u001b[0mc\u001b[0m\u001b[0;34m,\u001b[0m \u001b[0me\u001b[0m\u001b[0;34m)\u001b[0m\u001b[0;34m\u001b[0m\u001b[0;34m\u001b[0m\u001b[0m\n\u001b[0m\u001b[1;32m     32\u001b[0m \u001b[0mprint\u001b[0m\u001b[0;34m(\u001b[0m\u001b[0;34mf\"復号化されたメッセージ: {flag}\"\u001b[0m\u001b[0;34m)\u001b[0m\u001b[0;34m\u001b[0m\u001b[0;34m\u001b[0m\u001b[0m\n",
            "\u001b[0;32m<ipython-input-3-a8834e8da65c>\u001b[0m in \u001b[0;36mdecrypt\u001b[0;34m(n, c, e)\u001b[0m\n\u001b[1;32m     20\u001b[0m   \u001b[0;31m# メッセージの復号\u001b[0m\u001b[0;34m\u001b[0m\u001b[0;34m\u001b[0m\u001b[0m\n\u001b[1;32m     21\u001b[0m   \u001b[0mm\u001b[0m \u001b[0;34m=\u001b[0m \u001b[0mpow\u001b[0m\u001b[0;34m(\u001b[0m\u001b[0mc\u001b[0m\u001b[0;34m,\u001b[0m \u001b[0md\u001b[0m\u001b[0;34m,\u001b[0m \u001b[0mn\u001b[0m\u001b[0;34m)\u001b[0m\u001b[0;34m\u001b[0m\u001b[0;34m\u001b[0m\u001b[0m\n\u001b[0;32m---> 22\u001b[0;31m   \u001b[0;32mreturn\u001b[0m \u001b[0mm\u001b[0m\u001b[0;34m.\u001b[0m\u001b[0mto_bytes\u001b[0m\u001b[0;34m(\u001b[0m\u001b[0;34m(\u001b[0m\u001b[0mm\u001b[0m\u001b[0;34m.\u001b[0m\u001b[0mbit_length\u001b[0m\u001b[0;34m(\u001b[0m\u001b[0;34m)\u001b[0m \u001b[0;34m+\u001b[0m \u001b[0;36m7\u001b[0m\u001b[0;34m)\u001b[0m \u001b[0;34m//\u001b[0m \u001b[0;36m8\u001b[0m\u001b[0;34m,\u001b[0m \u001b[0;34m'big'\u001b[0m\u001b[0;34m)\u001b[0m\u001b[0;34m.\u001b[0m\u001b[0mdecode\u001b[0m\u001b[0;34m(\u001b[0m\u001b[0;34m)\u001b[0m\u001b[0;34m\u001b[0m\u001b[0;34m\u001b[0m\u001b[0m\n\u001b[0m\u001b[1;32m     23\u001b[0m \u001b[0;34m\u001b[0m\u001b[0m\n\u001b[1;32m     24\u001b[0m \u001b[0;31m# 与えられた n, c を使用する\u001b[0m\u001b[0;34m\u001b[0m\u001b[0;34m\u001b[0m\u001b[0m\n",
            "\u001b[0;31mUnicodeDecodeError\u001b[0m: 'utf-8' codec can't decode byte 0xb0 in position 3: invalid start byte"
          ]
        }
      ]
    },
    {
      "cell_type": "code",
      "source": [
        "n = 292927367433510948901751902057717800692038691293351366163009654796102787183601223853665784238601655926920628800436003079044921928983307813012149143680956641439800408783429996002829316421340550469318295239640149707659994033143360850517185860496309968947622345912323183329662031340775767654881876683235701491291\n",
        "\n",
        "print(len(str(n)))"
      ],
      "metadata": {
        "colab": {
          "base_uri": "https://localhost:8080/"
        },
        "id": "L5rqw1FvcyMf",
        "outputId": "cd353d12-c531-4f43-e03f-a0f779f18cb4"
      },
      "execution_count": 4,
      "outputs": [
        {
          "output_type": "stream",
          "name": "stdout",
          "text": [
            "309\n"
          ]
        }
      ]
    },
    {
      "cell_type": "code",
      "source": [
        "ab = 28347962831882769454618553954958819851319579984482333000162492691021802519375697262553440778001667619674723497501026613797636156704754646434775647096967729992306225998283999940438858680547911512073341409607381040912992735354698571576155750843940415057647013711359949649102926524363237634349331663931595027679709000404758309617551370661140402128171288521363854241635064819660089300995273835099967771608069501973728126045089426572572945113066368225450235783211375678087346640641196055581645502430852650520923184043404571923469007524529184935909107202788041365082158979439820855282328056521446473319065347766237878289\n",
        "adiv = 4701715889239073150754995341656203385876367121921416809690629011826585737797672332435916637751589158510308840818034029338373257253382781336806660731169\n",
        "bdiv = 35760393478073168120554460439408418517938869000491575971977265241403459560088076621005967604705616322055977691364792995889012788657592539661\n",
        "\n",
        "print(ab // adiv // bdiv)"
      ],
      "metadata": {
        "colab": {
          "base_uri": "https://localhost:8080/"
        },
        "id": "NgYw1CzZkJ-S",
        "outputId": "33d6c83f-1f7a-4491-b13c-fb8633538d2b"
      },
      "execution_count": 5,
      "outputs": [
        {
          "output_type": "stream",
          "name": "stdout",
          "text": [
            "168602179130542941829360938763588913033950728808204687738344939756690772499463147969992071622543050423641037178339406288176679147723646123266772165646828805533748632218062968267049753205615282207629849772408015254265200980724449082839150022450439661030563736824487531287491910398220288816325848224837808525851343383555765621\n"
          ]
        }
      ]
    },
    {
      "cell_type": "code",
      "source": [
        "!apt-get install clamav\n",
        "!clamscan -v"
      ],
      "metadata": {
        "colab": {
          "base_uri": "https://localhost:8080/"
        },
        "id": "rIarqSALsqmK",
        "outputId": "83d0326d-f8d2-483c-f1f4-c1eef3406055"
      },
      "execution_count": 6,
      "outputs": [
        {
          "output_type": "stream",
          "name": "stdout",
          "text": [
            "Reading package lists... Done\n",
            "Building dependency tree... Done\n",
            "Reading state information... Done\n",
            "clamav is already the newest version (0.103.11+dfsg-0ubuntu0.22.04.1).\n",
            "0 upgraded, 0 newly installed, 0 to remove and 45 not upgraded.\n",
            "LibClamAV Error: cli_loaddbdir(): No supported database files found in /var/lib/clamav\n",
            "ERROR: Can't open file or directory\n",
            "\n",
            "----------- SCAN SUMMARY -----------\n",
            "Known viruses: 0\n",
            "Engine version: 0.103.11\n",
            "Scanned directories: 0\n",
            "Scanned files: 0\n",
            "Infected files: 0\n",
            "Data scanned: 0.00 MB\n",
            "Data read: 0.00 MB (ratio 0.00:1)\n",
            "Time: 0.004 sec (0 m 0 s)\n",
            "Start Date: 2024:06:16 05:09:01\n",
            "End Date:   2024:06:16 05:09:01\n"
          ]
        }
      ]
    },
    {
      "cell_type": "code",
      "source": [
        "import subprocess\n",
        "\n",
        "# ldbContent = \"ClamoraFlag;Engine:81-255,Target:0;1;63746634;0/^((\\x63\\x74\\x66)(4)(\\x62)(\\{B)(\\x72)(\\x33)\\3(\\x6b1)(\\x6e\\x67)(\\x5f)\\3(\\x6c)\\11\\10(\\x54\\x68)\\7\\10(\\x480)(\\x75)(5)\\7\\10(\\x52)\\14\\11\\7(5)\\})$/\"\n",
        "ldbContent =  r\"ClamoraFlag;Engine:81-255,Target:0;1;63746634;0/^((\\x63\\x74\\x66)(4)(\\x62)(\\{B)(\\x72)(\\x33)\\3(\\x6b1)(\\x6e\\x67)(\\x5f)\\3(\\x6c)\\11\\10(\\x54\\x68)\\7\\10(\\x480)(\\x75)(5)\\7\\10(\\x52)\\14\\11\\7(5)\\})$/\"\n",
        "with open(\"flag.ldb\", \"w\") as f:\n",
        "    f.write(ldbContent)\n",
        "\n",
        "# LibClamAV debug: cli_pcre_report:  0: 63746634627b427233346b316e675f6c54684830753552357d\n",
        "# LibClamAV debug: cli_pcre_report:  1: 63746634627b427233346b316e675f6c54684830753552357d\n",
        "# LibClamAV debug: cli_pcre_report:  2: 637466\n",
        "# LibClamAV debug: cli_pcre_report:  3: 34\n",
        "# LibClamAV debug: cli_pcre_report:  4: 62\n",
        "# LibClamAV debug: cli_pcre_report:  5: 7b42\n",
        "# LibClamAV debug: cli_pcre_report:  6: 72\n",
        "# LibClamAV debug: cli_pcre_report:  7: 33\n",
        "# LibClamAV debug: cli_pcre_report:  8: 6b31\n",
        "# LibClamAV debug: cli_pcre_report:  9: 6e67\n",
        "# LibClamAV debug: cli_pcre_report:  10: 5f\n",
        "# LibClamAV debug: cli_pcre_report:  11: 6c\n",
        "# LibClamAV debug: cli_pcre_report:  12: 5468\n",
        "# LibClamAV debug: cli_pcre_report:  13: 4830\n",
        "# LibClamAV debug: cli_pcre_report:  14: 75\n",
        "# LibClamAV debug: cli_pcre_report:  15: 35\n",
        "# LibClamAV debug: cli_pcre_report:  16: 52\n",
        "# LibClamAV debug: cli_pcre_report:  17: 35\n",
        "\n",
        "content = \"\"\"ctf4b{Br34k1ng_4ll_Th3_H0u53_Rul35}\n",
        "\"\"\"\n",
        "\n",
        "with open(\"hoge.txt\", \"w\") as f:\n",
        "    f.write(content)\n",
        "\n",
        "command = [\n",
        "    \"clamscan\",\n",
        "    \"-z\",\n",
        "    \"--database=./flag.ldb\",\n",
        "    \"--no-summary\",\n",
        "    \"./hoge.txt\",\n",
        "]\n",
        "try:\n",
        "    result = (\n",
        "        subprocess.run(\n",
        "            command,\n",
        "            capture_output=True,\n",
        "            text=True,\n",
        "        ).stdout\n",
        "        .strip(\"\\n\")\n",
        "        .split(\" \")\n",
        "    )\n",
        "\n",
        "    print(result)\n",
        "\n",
        "    if len(result) == 3:\n",
        "        matched = result[1]\n",
        "        print(matched)\n",
        "    else:\n",
        "        print(\"Not Match\")\n",
        "except Exception as e:\n",
        "    print(f\"Something went wrong: {e}\")\n"
      ],
      "metadata": {
        "colab": {
          "base_uri": "https://localhost:8080/"
        },
        "id": "GtZC10GHs_D6",
        "outputId": "5eb8366e-d5a7-4e68-e4ed-1288f0f601cb"
      },
      "execution_count": 7,
      "outputs": [
        {
          "output_type": "stream",
          "name": "stdout",
          "text": [
            "['/content/hoge.txt:', 'ClamoraFlag.UNOFFICIAL', 'FOUND']\n",
            "ClamoraFlag.UNOFFICIAL\n"
          ]
        }
      ]
    },
    {
      "cell_type": "code",
      "source": [
        "!echo 7374756c747a67657473 | xxd -r -p"
      ],
      "metadata": {
        "colab": {
          "base_uri": "https://localhost:8080/"
        },
        "id": "Ah-Q8t29FleM",
        "outputId": "2c4feb2d-6d45-4b3d-8316-515f703da8b4"
      },
      "execution_count": 8,
      "outputs": [
        {
          "output_type": "stream",
          "name": "stdout",
          "text": [
            "stultzgets"
          ]
        }
      ]
    }
  ]
}